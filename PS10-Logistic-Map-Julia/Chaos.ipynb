{
 "cells": [
  {
   "cell_type": "code",
   "execution_count": 1,
   "metadata": {},
   "outputs": [],
   "source": [
    "using Plots, LinearAlgebra, Statistics"
   ]
  },
  {
   "cell_type": "code",
   "execution_count": 2,
   "metadata": {},
   "outputs": [
    {
     "data": {
      "text/plain": [
       "make_logstic_map (generic function with 1 method)"
      ]
     },
     "metadata": {},
     "output_type": "display_data"
    }
   ],
   "source": [
    "function make_logstic_map(r::Float64)   # Makes a Logistic map with r = r\n",
    "    \n",
    "    logstic_map(y) = 4*r*y*(1-y)\n",
    "    return logstic_map\n",
    "end"
   ]
  },
  {
   "cell_type": "code",
   "execution_count": 3,
   "metadata": {},
   "outputs": [
    {
     "data": {
      "text/plain": [
       "run_logstic (generic function with 3 methods)"
      ]
     },
     "metadata": {},
     "output_type": "display_data"
    }
   ],
   "source": [
    "function run_logstic(r, N_lim = 100000, trials = 100)  # Runs Logistic on \"trials\" number of initial values for \"N_lim\" times\n",
    "    \n",
    "    logstic_map = make_logstic_map(r)\n",
    "    x = rand(trials)        # Random initial values\n",
    "    \n",
    "    for i in 1:N_lim\n",
    "        x = logstic_map.(x)\n",
    "    end\n",
    "\n",
    "    return x\n",
    "end"
   ]
  },
  {
   "cell_type": "code",
   "execution_count": 4,
   "metadata": {},
   "outputs": [
    {
     "data": {
      "text/plain": [
       "9901"
      ]
     },
     "metadata": {},
     "output_type": "display_data"
    }
   ],
   "source": [
    "r_range = 0.01:0.0001:1\n",
    "ley_view = run_logstic.(r_range)\n",
    "r_len = length(r_range)"
   ]
  },
  {
   "cell_type": "code",
   "execution_count": 5,
   "metadata": {},
   "outputs": [
    {
     "data": {
      "text/plain": [
       "\"/home/erpc/UniWorks/012-Semster/CompPhys/PS10/Chaos.png\""
      ]
     },
     "metadata": {},
     "output_type": "display_data"
    }
   ],
   "source": [
    "plot(dpi = 300)\n",
    "for i in 1:length(r_range)\n",
    "    Plots.scatter!([fill(r_range[i], 100)], [ley_view[i]], color = :black, markershape = :pixel, legend = false)\n",
    "end\n",
    "\n",
    "savefig(\"Chaos.png\")"
   ]
  },
  {
   "cell_type": "code",
   "execution_count": 16,
   "metadata": {},
   "outputs": [
    {
     "name": "stdout",
     "output_type": "stream",
     "text": [
      "3\n",
      "4\n",
      "8\n",
      "16\n",
      "29\n",
      "31\n",
      "83\n",
      "86\n",
      "91\n",
      "97\n",
      "98\n",
      "99\n",
      "100\n"
     ]
    },
    {
     "data": {
      "text/plain": [
       "14-element Vector{Float64}:\n",
       " 0.25\n",
       " 0.75\n",
       " 0.8624\n",
       " 0.8861\n",
       " 0.8912\n",
       " 0.8922\n",
       " 0.8923\n",
       " 0.8925\n",
       " 0.8926\n",
       " 0.8927\n",
       " 0.893\n",
       " 0.8934\n",
       " 0.8972\n",
       " 0.8978"
      ]
     },
     "metadata": {},
     "output_type": "display_data"
    }
   ],
   "source": [
    "branch_points = []\n",
    "first_branch = 0\n",
    "for i in 1:r_len\n",
    "    if maximum(ley_view[i]) > 1E-6\n",
    "        push!(branch_points, i)\n",
    "        first_branch = i\n",
    "        break\n",
    "    end\n",
    "end\n",
    "\n",
    "\n",
    "past_branches = 2\n",
    "for i in first_branch+10:r_len\n",
    "    \n",
    "    new_branches = length(unique(round.(ley_view[i], digits = 4)))\n",
    "    if new_branches > past_branches\n",
    "        # OMG found it!\n",
    "        push!(branch_points, i)\n",
    "        past_branches = new_branches\n",
    "        println(new_branches)\n",
    "    end\n",
    "end\n",
    "\n",
    "\n",
    "r_range[branch_points]"
   ]
  },
  {
   "cell_type": "code",
   "execution_count": 17,
   "metadata": {},
   "outputs": [
    {
     "data": {
      "text/plain": [
       "4.647058823529407"
      ]
     },
     "metadata": {},
     "output_type": "display_data"
    }
   ],
   "source": [
    "δ = (r_range[branch_points[4]] - r_range[branch_points[3]]) / (r_range[branch_points[5]] - r_range[branch_points[4]])"
   ]
  },
  {
   "cell_type": "code",
   "execution_count": 9,
   "metadata": {},
   "outputs": [],
   "source": [
    "tips = [sort(unique(round.(ley_view[branch_points[i]+1], digits = 5))) for i = 1:7];"
   ]
  },
  {
   "cell_type": "code",
   "execution_count": 18,
   "metadata": {},
   "outputs": [
    {
     "data": {
      "text/plain": [
       "2.3518518518521105"
      ]
     },
     "metadata": {},
     "output_type": "display_data"
    }
   ],
   "source": [
    "α = (diff(tips[4])[end] - diff(tips[3])[end]) / (diff(tips[5])[end] - diff(tips[4])[end])"
   ]
  },
  {
   "attachments": {},
   "cell_type": "markdown",
   "metadata": {},
   "source": [
    "![Alt text](ShockedSonic.jpg \"Wow!\")"
   ]
  }
 ],
 "metadata": {
  "kernelspec": {
   "display_name": "Julia 1.9.0",
   "language": "julia",
   "name": "julia-1.9"
  },
  "language_info": {
   "file_extension": ".jl",
   "mimetype": "application/julia",
   "name": "julia",
   "version": "1.9.0"
  },
  "orig_nbformat": 4
 },
 "nbformat": 4,
 "nbformat_minor": 2
}
